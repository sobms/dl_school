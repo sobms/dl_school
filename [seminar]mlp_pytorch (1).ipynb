{
  "nbformat": 4,
  "nbformat_minor": 0,
  "metadata": {
    "colab": {
      "name": "[seminar]mlp_pytorch.ipynb",
      "provenance": [],
      "collapsed_sections": []
    },
    "kernelspec": {
      "name": "python3",
      "display_name": "Python 3"
    },
    "accelerator": "GPU"
  },
  "cells": [
    {
      "cell_type": "markdown",
      "metadata": {
        "id": "aaSoSTVpYJcu",
        "colab_type": "text"
      },
      "source": [
        "<p style=\"align: center;\"><img align=center src=\"https://s8.hostingkartinok.com/uploads/images/2018/08/308b49fcfbc619d629fe4604bceb67ac.jpg\" width=500 height=450/></p>\n",
        "\n",
        "<h3 style=\"text-align: center;\"><b>\"Глубокое обучение\". Продвинутый поток</b></h3>\n",
        "\n",
        "\n",
        "<h2 style=\"text-align: center;\"><b>Семинар 7. Многослойная сеть на PyTorch</b></h3>"
      ]
    },
    {
      "cell_type": "markdown",
      "metadata": {
        "id": "J2msuyHTYJcx",
        "colab_type": "text"
      },
      "source": [
        "В этом ноутбке мы научимся писать свои нейросети на фреймворке PyTorch, конкретно - рассмотрим, как написать многослойную полносвязную сеть (Fully-Connected, FC), и сравним их качество на датасете картинок MNIST."
      ]
    },
    {
      "cell_type": "markdown",
      "metadata": {
        "id": "9xJnMEZrYJcz",
        "colab_type": "text"
      },
      "source": [
        "<h3 style=\"text-align: center;\"><b>Компоненты нейросети</b></h3>"
      ]
    },
    {
      "cell_type": "markdown",
      "metadata": {
        "id": "InwacmvIYJc0",
        "colab_type": "text"
      },
      "source": [
        "Здесь самое время напомнить о том, какие вещи играют принципиальную роль в построении любой ***нейронной сети*** (все их мы задаём *руками*, самостоятельно):  \n",
        "\n",
        "- непосредственно, сама **архитектура** нейросети (сюда входят типы функций активации у каждого нейрона);\n",
        "- начальная **инициализация** весов каждого слоя;\n",
        "- метод **оптимизации** нейросети (сюда ещё входит метод изменения `learning_rate`);\n",
        "- размер **батчей** (`batch_size`);\n",
        "- количество итераций обучения (`num_epochs`);\n",
        "- **функция потерь** (`loss`);  \n",
        "- тип **регуляризации** нейросети (для каждого слоя можно свой);  \n",
        "\n",
        "То, что связано с ***данными и задачей***:  \n",
        "- само **качество** выборки (непротиворечивость, чистота, корректность постановки задачи);  \n",
        "- **размер** выборки;  "
      ]
    },
    {
      "cell_type": "markdown",
      "metadata": {
        "id": "tXujEOB0YJc1",
        "colab_type": "text"
      },
      "source": [
        "<h3 style=\"text-align: center;\"><b>Многослойная нейронная сеть</b></h3>"
      ]
    },
    {
      "cell_type": "markdown",
      "metadata": {
        "id": "mnxH-DajYJc3",
        "colab_type": "text"
      },
      "source": [
        "Как можно понять из названия, многослойная нейросеть состоит из нескольких **слоёв**. Каждый слой состоит из **нейронов**. Ранее мы уже писали свой нейрон на NumPy, вот из таких нейронов и состоит ***MLP (Multi-Layer Perceptron)***. Ещё такую многослойную нейросеть, у которой каждый нейрон на предыдущем уровне соединён с нейроном на следующем уровне, называют ***Fully-Connected-сетью*** (или ***Dense-сетью***).  \n",
        "\n",
        "Расмотрим их устройство более подробно:"
      ]
    },
    {
      "cell_type": "markdown",
      "metadata": {
        "id": "onjJUneMYJc5",
        "colab_type": "text"
      },
      "source": [
        "* Вот так выглядит двухслойная нейросеть (первый слой - input layer - не считается, потому что это, по сути, не слой):"
      ]
    },
    {
      "cell_type": "markdown",
      "metadata": {
        "id": "owRRulLzYJc6",
        "colab_type": "text"
      },
      "source": [
        "<img src=\"http://cs231n.github.io/assets/nn1/neural_net.jpeg\" width=300, height=200>"
      ]
    },
    {
      "cell_type": "markdown",
      "metadata": {
        "id": "tFNxGGBEYJc8",
        "colab_type": "text"
      },
      "source": [
        "* Так выглядит трёхслойная нейросеть:"
      ]
    },
    {
      "cell_type": "markdown",
      "metadata": {
        "id": "zRaKX35eYJc9",
        "colab_type": "text"
      },
      "source": [
        "<img src=\"http://cs231n.github.io/assets/nn1/neural_net2.jpeg\" width=400>"
      ]
    },
    {
      "cell_type": "markdown",
      "metadata": {
        "id": "6w1FTkO1YJc-",
        "colab_type": "text"
      },
      "source": [
        ".. и так далее для большего случая слоёв."
      ]
    },
    {
      "cell_type": "markdown",
      "metadata": {
        "id": "8iKV7m5YYJc_",
        "colab_type": "text"
      },
      "source": [
        "**Обратите внимание:** связи есть у нейронов со слоя $L_{i-1}$  и нейронов $L_{i}$, но между нейронами в одном слое связей **нет**."
      ]
    },
    {
      "cell_type": "markdown",
      "metadata": {
        "id": "URV9qWkfYJdA",
        "colab_type": "text"
      },
      "source": [
        "**Входной слой** -- это данные (матрица $(n, m)$)."
      ]
    },
    {
      "cell_type": "markdown",
      "metadata": {
        "id": "zK8tWuHHYJdB",
        "colab_type": "text"
      },
      "source": [
        "Слои, которые не являются входными или выходными, называются **скрытыми слоями (hidden layers)**."
      ]
    },
    {
      "cell_type": "markdown",
      "metadata": {
        "id": "fz9clUlCYJdC",
        "colab_type": "text"
      },
      "source": [
        "При решении ***задачи регрессии*** на **выходном слое** обычно один нейрон, который возвращает предсказанные числа (для каждого объекта по числу).  \n",
        "\n",
        "В случае ***задачи классификации*** на **выходном слое** обычно один нейрон, если задача бинарной классификации, и $K$ нейронов, если задача $K$-класовой классификации."
      ]
    },
    {
      "cell_type": "markdown",
      "metadata": {
        "id": "nJblXqY5YJdE",
        "colab_type": "text"
      },
      "source": [
        "#### Forward pass в MLP"
      ]
    },
    {
      "cell_type": "markdown",
      "metadata": {
        "id": "D87xoAl8YJdF",
        "colab_type": "text"
      },
      "source": [
        "Каждый слой многослойной нейросети - это матрица весов, строки которой - это нейроны (одна строка - один нейрон), а столбцы - веса каждого нейрона (то есть одна строка - это веса одного нейрона)."
      ]
    },
    {
      "cell_type": "markdown",
      "metadata": {
        "collapsed": true,
        "id": "RyXUqCfVYJdG",
        "colab_type": "text"
      },
      "source": [
        "Допустим, мы решаем задачу $K$-классовой классификации (на последнем слое $K$ нейронов). Рассмотрим, как в таком случае выглядит `forward_pass` нейросети:"
      ]
    },
    {
      "cell_type": "markdown",
      "metadata": {
        "id": "YO6gHbOjYJdH",
        "colab_type": "text"
      },
      "source": [
        "* Вход: $$X =\n",
        "\\left(\n",
        "\\begin{matrix} \n",
        "x_{11} & ... & x_{1M} \\\\\n",
        "... & \\ddots  & ...\\\\\n",
        "x_{N1} & ... & x_{NM} \n",
        "\\end{matrix}\n",
        "\\right)\n",
        "$$\n",
        "\n",
        "-- матрица $(N, M)$"
      ]
    },
    {
      "cell_type": "markdown",
      "metadata": {
        "collapsed": true,
        "id": "XdImZiQkYJdI",
        "colab_type": "text"
      },
      "source": [
        "* Структура сети - много слоёв, в слоях много нейронов. Первый слой (после входного) выглядит так:"
      ]
    },
    {
      "cell_type": "markdown",
      "metadata": {
        "id": "U2c2M4MJYJdJ",
        "colab_type": "text"
      },
      "source": [
        "$$ W^1 =\n",
        "\\left(\n",
        "\\begin{matrix} \n",
        "w_{11} & ... & w_{1L_1} \\\\\n",
        "... & \\ddots  & ...\\\\\n",
        "w_{M1} & ... & w_{ML_1} \n",
        "\\end{matrix}\n",
        "\\right)\n",
        "$$\n",
        "\n",
        "-- матрица $(M, L_1)$"
      ]
    },
    {
      "cell_type": "markdown",
      "metadata": {
        "id": "UUCdeLN0YJdK",
        "colab_type": "text"
      },
      "source": [
        "То есть это в точности $L_1$ нейронов, каждый имеет свои собственные веса, их $M$ штук."
      ]
    },
    {
      "cell_type": "markdown",
      "metadata": {
        "id": "ixHtlMwKYJdL",
        "colab_type": "text"
      },
      "source": [
        "Мы помним, что нейрон - это линейное преобразование и потом нелинейная функция активации от этого преобразования. Однако в многослойных нейростеях часто отделяют `Linear` часть и `Activation`, то есть слоем считаем набор весов нейронов, а следующий слой всегда функция активации (у всех нейронов из слоя она одна и та же, обычно фреймворки не позволяют задавать конкретному нейрону в слое отличную от других нейронов в этом слое функцию активации, однако это легко сделать, объявив слой из одного нейрона)."
      ]
    },
    {
      "cell_type": "markdown",
      "metadata": {
        "id": "AUt1NgTvYJdN",
        "colab_type": "text"
      },
      "source": [
        "* Другие слои выглядит точно так же, как первый слой. Например, у второй слой будет такой:"
      ]
    },
    {
      "cell_type": "markdown",
      "metadata": {
        "id": "IdtSTvTmYJdN",
        "colab_type": "text"
      },
      "source": [
        "$$ W^2 =\n",
        "\\left(\n",
        "\\begin{matrix} \n",
        "w_{11} & ... & w_{1L_2} \\\\\n",
        "... & \\ddots  & ...\\\\\n",
        "w_{L_11} & ... & w_{L_1L_2} \n",
        "\\end{matrix}\n",
        "\\right)\n",
        "$$\n",
        "\n",
        "-- матрица $(L_1, L_2)$"
      ]
    },
    {
      "cell_type": "markdown",
      "metadata": {
        "id": "R3nGnHoLYJdP",
        "colab_type": "text"
      },
      "source": [
        "То есть это в точности $L_2$ нейронов, каждый имеет свои собственные веса, их $L_1$ штук."
      ]
    },
    {
      "cell_type": "markdown",
      "metadata": {
        "id": "bQhOAQjSYJdR",
        "colab_type": "text"
      },
      "source": [
        "* Выходной слой:  \n",
        "\n",
        "Пусть в нейросети до выходного слоя идут $t$ слоёв. Тогда выходной слой имеет форму:"
      ]
    },
    {
      "cell_type": "markdown",
      "metadata": {
        "id": "fWvqm-K0YJdT",
        "colab_type": "text"
      },
      "source": [
        "$$ W^{out} =\n",
        "\\left(\n",
        "\\begin{matrix} \n",
        "w_{11} & ... & w_{1K} \\\\\n",
        "... & \\ddots  & ...\\\\\n",
        "w_{L_t1} & ... & w_{L_tK} \n",
        "\\end{matrix}\n",
        "\\right)\n",
        "$$\n",
        "\n",
        "-- матрица $(L_t, K)$, где $L_t$ - количество нейронов в $t$-ом слое, а $K$ -- количество классов."
      ]
    },
    {
      "cell_type": "markdown",
      "metadata": {
        "id": "2z5tO89NYJdU",
        "colab_type": "text"
      },
      "source": [
        "В итоге ***для `forward_pass` нам нужно просто последовтельно перемножить матрицы друг за другом, применяя после каждого умножения соответсвующую функцию активации***."
      ]
    },
    {
      "cell_type": "markdown",
      "metadata": {
        "id": "IZT4GgsCYJdV",
        "colab_type": "text"
      },
      "source": [
        "*Примечание*: можно думать об умножении на очередную матрицу весов как на переход в **новое признаковое пространство**. Действительно, когда подаём матрицу $X$ и умножаем на матрицу первого слоя, мы получаем матрицу размера $(N, L_1)$, то есть как будто $L_1$ \"новых\" признаков (построенных как линейная комбинация старых до применения функции активации, и уже как нелинейная комбинация после активации)."
      ]
    },
    {
      "cell_type": "markdown",
      "metadata": {
        "id": "4RhJ4fsHYJdW",
        "colab_type": "text"
      },
      "source": [
        "**Backward pass в MLP**"
      ]
    },
    {
      "cell_type": "markdown",
      "metadata": {
        "id": "MYN043DbYJdX",
        "colab_type": "text"
      },
      "source": [
        "Обучается с помощью метода \"Error Backpropagation\" - [\"Обратное распространение ошибки\"](https://ru.wikipedia.org/wiki/%D0%9C%D0%B5%D1%82%D0%BE%D0%B4_%D0%BE%D0%B1%D1%80%D0%B0%D1%82%D0%BD%D0%BE%D0%B3%D0%BE_%D1%80%D0%B0%D1%81%D0%BF%D1%80%D0%BE%D1%81%D1%82%D1%80%D0%B0%D0%BD%D0%B5%D0%BD%D0%B8%D1%8F_%D0%BE%D1%88%D0%B8%D0%B1%D0%BA%D0%B8), принцип распространения очень похож на то, как мы обучали один нейрон - это градиентный спуск, но по \"всей нейросети\" сразу.  "
      ]
    },
    {
      "cell_type": "markdown",
      "metadata": {
        "collapsed": true,
        "id": "oK7Vi4bxYJdZ",
        "colab_type": "text"
      },
      "source": [
        "Backpropagation работает корректно благодаря ***chain rule*** (=правилу взятия производной сложной функции):  \n",
        "\n",
        "Если $f(x) = f(g(x))$, то:  \n",
        "\n",
        "$$\\frac{\\partial{f}}{\\partial{x}} = \\frac{\\partial{f}}{\\partial{g}} \\frac{\\partial{g}}{\\partial{x}}$$"
      ]
    },
    {
      "cell_type": "markdown",
      "metadata": {
        "collapsed": true,
        "id": "WKvMsaEBYJda",
        "colab_type": "text"
      },
      "source": [
        "Более подробно про backpropagation можно прочитать здесь (на английском):  https://mattmazur.com/2015/03/17/a-step-by-step-backpropagation-example/"
      ]
    },
    {
      "cell_type": "code",
      "metadata": {
        "id": "bLjkPg19YJdg",
        "colab_type": "code",
        "colab": {}
      },
      "source": [
        "import matplotlib.pyplot as plt\n",
        "import numpy as np\n",
        "\n",
        "import torch"
      ],
      "execution_count": null,
      "outputs": []
    },
    {
      "cell_type": "markdown",
      "metadata": {
        "id": "iCDVRvQJYJdl",
        "colab_type": "text"
      },
      "source": [
        "## Датасет\n",
        "Мы будем работать с датасетом \"Игрушка дьявола\". Генерация и отрисовка датасета:"
      ]
    },
    {
      "cell_type": "code",
      "metadata": {
        "id": "k0J27RcLYJdm",
        "colab_type": "code",
        "colab": {}
      },
      "source": [
        "# код для генерации взят из Стэнфордсокго курса:\n",
        "# http://cs231n.github.io/neural-networks-case-study/#linear\n",
        "\n",
        "N = 100\n",
        "D = 2\n",
        "K = 3\n",
        "X = np.zeros((N * K, D))\n",
        "y = np.zeros(N * K, dtype='uint8')\n",
        "\n",
        "for j in range(K):\n",
        "    ix = range(N * j,N * (j + 1))\n",
        "    r = np.linspace(0.0, 1, N)\n",
        "    t = np.linspace(j * 4, (j + 1) * 4,N) + np.random.randn(N) * 0.2 # theta\n",
        "    X[ix] = np.c_[r * np.sin(t), r * np.cos(t)]\n",
        "    y[ix] = j"
      ],
      "execution_count": null,
      "outputs": []
    },
    {
      "cell_type": "code",
      "metadata": {
        "id": "mjs-vxw4k6wE",
        "colab_type": "code",
        "colab": {
          "base_uri": "https://localhost:8080/",
          "height": 519
        },
        "outputId": "f3dac8fd-11bc-48f4-a337-d815489d7a54"
      },
      "source": [
        "# Отрисовочная магия, снова взято из:\n",
        "# http://cs231n.github.io/neural-networks-case-study/#linear\n",
        "\n",
        "plt.figure(figsize=(10, 8))\n",
        "\n",
        "plt.scatter(X[:, 0], X[:, 1], c=y, s=40, cmap=plt.cm.rainbow)\n",
        "\n",
        "plt.title('Игрушка дьявола', fontsize=15)\n",
        "plt.xlabel('$x$', fontsize=14)\n",
        "plt.ylabel('$y$', fontsize=14)\n",
        "plt.show();"
      ],
      "execution_count": null,
      "outputs": [
        {
          "output_type": "display_data",
          "data": {
            "image/png": "[encoded data removed]",
            "text/plain": [
              "<Figure size 720x576 with 1 Axes>"
            ]
          },
          "metadata": {
            "tags": [],
            "needs_background": "light"
          }
        }
      ]
    },
    {
      "cell_type": "markdown",
      "metadata": {
        "id": "z5dyjPVNYJdc",
        "colab_type": "text"
      },
      "source": [
        "<h3 style=\"text-align: center;\"><b>Многослойная нейросеть на PyTorch</b></h3>"
      ]
    },
    {
      "cell_type": "markdown",
      "metadata": {
        "id": "T9ufk3ECYJde",
        "colab_type": "text"
      },
      "source": [
        "Ешё раз напомним про основные компоненты нейросети:\n",
        "\n",
        "- непосредственно, сама **архитектура** нейросети (сюда входят типы функций активации у каждого нейрона);\n",
        "- начальная **инициализация** весов каждого слоя;\n",
        "- метод **оптимизации** нейросети (сюда ещё входит метод изменения `learning_rate`);\n",
        "- размер **батчей** (`batch_size`);\n",
        "- количетсво итераций обучения (`num_epochs`);\n",
        "- **функция потерь** (`loss`);  \n",
        "- тип **регуляризации** нейросети (для каждого слоя можно свой);  \n",
        "\n",
        "То, что связано с ***данными и задачей***:  \n",
        "- само **качество** выборки (непротиворечивость, чистота, корректность постановки задачи);  \n",
        "- **размер** выборки;  "
      ]
    },
    {
      "cell_type": "markdown",
      "metadata": {
        "id": "53eTS9VomL1W",
        "colab_type": "text"
      },
      "source": [
        "## PyTorch для нейронных сетей\n",
        "\n",
        "Основная абстракция для построения нейронной сети --- это torch.nn.Module. Module --- это те кирпичики, из которых мы будем складывать любую нейронную сеть. Как мы узнали на лекции, для определения модуля достаточно задать методы Forward и Backward. Базовый класс для nn.Module в PyTorch:\n",
        "\n"
      ]
    },
    {
      "cell_type": "code",
      "metadata": {
        "id": "KPNm3D1_l7ab",
        "colab_type": "code",
        "colab": {
          "base_uri": "https://localhost:8080/",
          "height": 408
        },
        "outputId": "f0b9941c-acb3-4522-82a9-bb58b90faef2"
      },
      "source": [
        "from torch import nn\n",
        "import torch.nn.functional as F\n",
        "\n",
        "print(nn.Module.__doc__)"
      ],
      "execution_count": null,
      "outputs": [
        {
          "output_type": "stream",
          "text": [
            "Base class for all neural network modules.\n",
            "\n",
            "    Your models should also subclass this class.\n",
            "\n",
            "    Modules can also contain other Modules, allowing to nest them in\n",
            "    a tree structure. You can assign the submodules as regular attributes::\n",
            "\n",
            "        import torch.nn as nn\n",
            "        import torch.nn.functional as F\n",
            "\n",
            "        class Model(nn.Module):\n",
            "            def __init__(self):\n",
            "                super(Model, self).__init__()\n",
            "                self.conv1 = nn.Conv2d(1, 20, 5)\n",
            "                self.conv2 = nn.Conv2d(20, 20, 5)\n",
            "\n",
            "            def forward(self, x):\n",
            "                x = F.relu(self.conv1(x))\n",
            "                return F.relu(self.conv2(x))\n",
            "\n",
            "    Submodules assigned in this way will be registered, and will have their\n",
            "    parameters converted too when you call :meth:`to`, etc.\n",
            "    \n"
          ],
          "name": "stdout"
        }
      ]
    },
    {
      "cell_type": "markdown",
      "metadata": {
        "id": "9KrWarqTYJdf",
        "colab_type": "text"
      },
      "source": [
        "### Модуль Sequential\n",
        "\n",
        "Основной класс в PyTorch для работы с нейронными сетями --- это  Sequential.  Sequential --- это шаблон для самой простой последовательной нейронной сети. Методы Forward и Backward заданы соответственно: мы пробрасываем выходы и градиенты через все слои, из которых состоит Module. Посмотрим, как это работает.\n",
        "\n",
        "Не будем медлить - бахнем 100 нейронов в двуслойную нейросеть. "
      ]
    },
    {
      "cell_type": "code",
      "metadata": {
        "id": "oMSylwd9ljKI",
        "colab_type": "code",
        "colab": {}
      },
      "source": [
        "# N - размер батча (batch_size, нужно для метода оптимизации); \n",
        "# D_in - размерность входа (количество признаков у объекта);\n",
        "# H - размерность скрытых слоёв; \n",
        "# D_out - размерность выходного слоя (суть - количество классов)\n",
        "N, D_in, H, D_out = 64, 2, 100, 3\n",
        "\n",
        "# Use the nn package to define our model and loss function.\n",
        "two_layer_net = torch.nn.Sequential(\n",
        "    torch.nn.Linear(D_in, H),\n",
        "    torch.nn.ReLU(),\n",
        "    torch.nn.Linear(H, D_out),\n",
        "    torch.nn.Softmax()\n",
        ")"
      ],
      "execution_count": null,
      "outputs": []
    },
    {
      "cell_type": "markdown",
      "metadata": {
        "id": "lpZo6N_MozH2",
        "colab_type": "text"
      },
      "source": [
        "Посмотрим, что у нас получилось. Пропустим мусорные данные через нашу модель методом forward."
      ]
    },
    {
      "cell_type": "code",
      "metadata": {
        "id": "lSNaXUwrohoF",
        "colab_type": "code",
        "colab": {
          "base_uri": "https://localhost:8080/",
          "height": 34
        },
        "outputId": "5ca1a462-cf4a-41bc-843a-fc2377abd042"
      },
      "source": [
        "print(\"Weight shapes:\", [w.shape for w in two_layer_net.parameters()])"
      ],
      "execution_count": null,
      "outputs": [
        {
          "output_type": "stream",
          "text": [
            "Weight shapes: [torch.Size([100, 2]), torch.Size([100]), torch.Size([3, 100]), torch.Size([3])]\n"
          ],
          "name": "stdout"
        }
      ]
    },
    {
      "cell_type": "code",
      "metadata": {
        "id": "Wt5Gz8TAokF6",
        "colab_type": "code",
        "colab": {
          "base_uri": "https://localhost:8080/",
          "height": 88
        },
        "outputId": "a84fe982-b003-4b3c-fe5f-a22e4f2c043b"
      },
      "source": [
        "# create dummy data with 3 samples and 784 features\n",
        "x_batch = torch.tensor(X[:3], dtype=torch.float32)\n",
        "y_batch = torch.tensor(y[:3], dtype=torch.float32)\n",
        "\n",
        "# compute outputs given inputs, both are variables\n",
        "y_predicted = two_layer_net(x_batch)[0]\n",
        "\n",
        "y_predicted  # display what we've got"
      ],
      "execution_count": null,
      "outputs": [
        {
          "output_type": "stream",
          "text": [
            "/usr/local/lib/python3.6/dist-packages/torch/nn/modules/container.py:117: UserWarning: Implicit dimension choice for softmax has been deprecated. Change the call to include dim=X as an argument.\n",
            "  input = module(input)\n"
          ],
          "name": "stderr"
        },
        {
          "output_type": "execute_result",
          "data": {
            "text/plain": [
              "tensor([0.3722, 0.3479, 0.2799], grad_fn=<SelectBackward>)"
            ]
          },
          "metadata": {
            "tags": []
          },
          "execution_count": 8
        }
      ]
    },
    {
      "cell_type": "markdown",
      "metadata": {
        "id": "hGPxtOtUn1vl",
        "colab_type": "text"
      },
      "source": [
        "## Код для генерации мини-батчей\n",
        "\n"
      ]
    },
    {
      "cell_type": "code",
      "metadata": {
        "id": "VKhZcLYo5n82",
        "colab_type": "code",
        "colab": {}
      },
      "source": [
        "from torch.autograd import Variable"
      ],
      "execution_count": null,
      "outputs": []
    },
    {
      "cell_type": "code",
      "metadata": {
        "id": "1n7B82nRn_5f",
        "colab_type": "code",
        "colab": {}
      },
      "source": [
        "def batch_gen(X, y, batch_size=128):\n",
        "    idx = np.random.randint(X.shape[0], size=batch_size)\n",
        "    X_batch = X[idx]\n",
        "    y_batch = y[idx]\n",
        "  \n",
        "    return torch.FloatTensor(X_batch), torch.LongTensor(y_batch)"
      ],
      "execution_count": 1,
      "outputs": []
    },
    {
      "cell_type": "code",
      "metadata": {
        "id": "YJhZJaDA7G0e",
        "colab_type": "code",
        "colab": {
          "base_uri": "https://localhost:8080/",
          "height": 34
        },
        "outputId": "da6a04dc-2a40-456b-bf60-0267b20d0a87"
      },
      "source": [
        "batch_gen(X, y)[1].shape"
      ],
      "execution_count": null,
      "outputs": [
        {
          "output_type": "execute_result",
          "data": {
            "text/plain": [
              "torch.Size([128])"
            ]
          },
          "metadata": {
            "tags": []
          },
          "execution_count": 11
        }
      ]
    },
    {
      "cell_type": "code",
      "metadata": {
        "id": "tZPt-1aB7Ty0",
        "colab_type": "code",
        "colab": {
          "base_uri": "https://localhost:8080/",
          "height": 1000
        },
        "outputId": "ee8fc092-8159-41e2-a3f5-d74ee5c23042"
      },
      "source": [
        "two_layer_net.forward(batch_gen(X,y)[0])"
      ],
      "execution_count": null,
      "outputs": [
        {
          "output_type": "stream",
          "text": [
            "/usr/local/lib/python3.6/dist-packages/torch/nn/modules/container.py:117: UserWarning: Implicit dimension choice for softmax has been deprecated. Change the call to include dim=X as an argument.\n",
            "  input = module(input)\n"
          ],
          "name": "stderr"
        },
        {
          "output_type": "execute_result",
          "data": {
            "text/plain": [
              "tensor([[0.3358, 0.3608, 0.3033],\n",
              "        [0.3693, 0.3470, 0.2837],\n",
              "        [0.3271, 0.3649, 0.3080],\n",
              "        [0.3811, 0.3352, 0.2838],\n",
              "        [0.4251, 0.3162, 0.2588],\n",
              "        [0.3490, 0.3581, 0.2928],\n",
              "        [0.3722, 0.3479, 0.2799],\n",
              "        [0.3636, 0.3501, 0.2864],\n",
              "        [0.4027, 0.3436, 0.2536],\n",
              "        [0.3722, 0.3574, 0.2704],\n",
              "        [0.3728, 0.3477, 0.2796],\n",
              "        [0.3867, 0.3324, 0.2809],\n",
              "        [0.3557, 0.3567, 0.2877],\n",
              "        [0.3707, 0.3464, 0.2830],\n",
              "        [0.3537, 0.3588, 0.2875],\n",
              "        [0.4120, 0.3295, 0.2585],\n",
              "        [0.3627, 0.3549, 0.2824],\n",
              "        [0.3852, 0.3441, 0.2707],\n",
              "        [0.4117, 0.3221, 0.2662],\n",
              "        [0.3718, 0.3480, 0.2803],\n",
              "        [0.3709, 0.3473, 0.2818],\n",
              "        [0.3490, 0.3581, 0.2928],\n",
              "        [0.3708, 0.3490, 0.2802],\n",
              "        [0.4054, 0.3302, 0.2644],\n",
              "        [0.3537, 0.3588, 0.2875],\n",
              "        [0.3753, 0.3726, 0.2522],\n",
              "        [0.3674, 0.3512, 0.2814],\n",
              "        [0.3551, 0.3572, 0.2877],\n",
              "        [0.3521, 0.3552, 0.2926],\n",
              "        [0.3701, 0.3484, 0.2815],\n",
              "        [0.3706, 0.3494, 0.2800],\n",
              "        [0.3473, 0.3599, 0.2928],\n",
              "        [0.3992, 0.3295, 0.2713],\n",
              "        [0.3276, 0.3663, 0.3062],\n",
              "        [0.3605, 0.3513, 0.2882],\n",
              "        [0.3545, 0.3547, 0.2908],\n",
              "        [0.3260, 0.3689, 0.3051],\n",
              "        [0.4150, 0.3205, 0.2645],\n",
              "        [0.3754, 0.3461, 0.2785],\n",
              "        [0.3326, 0.3753, 0.2921],\n",
              "        [0.4271, 0.3153, 0.2576],\n",
              "        [0.3830, 0.3457, 0.2713],\n",
              "        [0.3537, 0.3588, 0.2875],\n",
              "        [0.4250, 0.3167, 0.2583],\n",
              "        [0.3479, 0.3586, 0.2934],\n",
              "        [0.3512, 0.3579, 0.2909],\n",
              "        [0.3723, 0.3482, 0.2796],\n",
              "        [0.3708, 0.3479, 0.2813],\n",
              "        [0.3302, 0.3797, 0.2900],\n",
              "        [0.4027, 0.3436, 0.2536],\n",
              "        [0.4313, 0.3137, 0.2549],\n",
              "        [0.4036, 0.3431, 0.2533],\n",
              "        [0.3538, 0.3551, 0.2910],\n",
              "        [0.4055, 0.3247, 0.2698],\n",
              "        [0.3686, 0.3471, 0.2843],\n",
              "        [0.3827, 0.3698, 0.2475],\n",
              "        [0.3519, 0.3562, 0.2919],\n",
              "        [0.3658, 0.3539, 0.2803],\n",
              "        [0.4073, 0.3348, 0.2579],\n",
              "        [0.3945, 0.3617, 0.2438],\n",
              "        [0.3286, 0.3645, 0.3069],\n",
              "        [0.3309, 0.3795, 0.2896],\n",
              "        [0.3537, 0.3588, 0.2875],\n",
              "        [0.3580, 0.3550, 0.2870],\n",
              "        [0.3764, 0.3388, 0.2848],\n",
              "        [0.4277, 0.3148, 0.2574],\n",
              "        [0.3722, 0.3483, 0.2795],\n",
              "        [0.3778, 0.3379, 0.2843],\n",
              "        [0.3772, 0.3454, 0.2774],\n",
              "        [0.3707, 0.3498, 0.2796],\n",
              "        [0.3545, 0.3647, 0.2808],\n",
              "        [0.3949, 0.3286, 0.2765],\n",
              "        [0.4122, 0.3211, 0.2666],\n",
              "        [0.3896, 0.3314, 0.2790],\n",
              "        [0.3638, 0.3528, 0.2834],\n",
              "        [0.3717, 0.3434, 0.2849],\n",
              "        [0.3728, 0.3477, 0.2796],\n",
              "        [0.3701, 0.3484, 0.2815],\n",
              "        [0.3276, 0.3663, 0.3062],\n",
              "        [0.3619, 0.3510, 0.2871],\n",
              "        [0.3814, 0.3460, 0.2726],\n",
              "        [0.3734, 0.3550, 0.2716],\n",
              "        [0.3495, 0.3590, 0.2915],\n",
              "        [0.3510, 0.3560, 0.2930],\n",
              "        [0.3846, 0.3669, 0.2485],\n",
              "        [0.3512, 0.3579, 0.2909],\n",
              "        [0.3575, 0.3534, 0.2890],\n",
              "        [0.4296, 0.3146, 0.2558],\n",
              "        [0.3718, 0.3482, 0.2800],\n",
              "        [0.3490, 0.3581, 0.2928],\n",
              "        [0.3490, 0.3583, 0.2927],\n",
              "        [0.3877, 0.3641, 0.2482],\n",
              "        [0.4054, 0.3302, 0.2644],\n",
              "        [0.3846, 0.3669, 0.2485],\n",
              "        [0.3674, 0.3512, 0.2814],\n",
              "        [0.3578, 0.3555, 0.2867],\n",
              "        [0.3519, 0.3562, 0.2919],\n",
              "        [0.3638, 0.3528, 0.2834],\n",
              "        [0.3668, 0.3517, 0.2815],\n",
              "        [0.3760, 0.3381, 0.2859],\n",
              "        [0.3955, 0.3294, 0.2751],\n",
              "        [0.3547, 0.3535, 0.2918],\n",
              "        [0.3753, 0.3465, 0.2782],\n",
              "        [0.3734, 0.3550, 0.2716],\n",
              "        [0.3701, 0.3484, 0.2815],\n",
              "        [0.3651, 0.3619, 0.2730],\n",
              "        [0.3271, 0.3699, 0.3030],\n",
              "        [0.3648, 0.3522, 0.2830],\n",
              "        [0.4168, 0.3199, 0.2633],\n",
              "        [0.3303, 0.3759, 0.2939],\n",
              "        [0.3827, 0.3431, 0.2742],\n",
              "        [0.3805, 0.3426, 0.2770],\n",
              "        [0.3707, 0.3464, 0.2830],\n",
              "        [0.4288, 0.3151, 0.2562],\n",
              "        [0.4024, 0.3269, 0.2707],\n",
              "        [0.3693, 0.3737, 0.2570],\n",
              "        [0.3708, 0.3490, 0.2802],\n",
              "        [0.4076, 0.3260, 0.2665],\n",
              "        [0.3719, 0.3493, 0.2789],\n",
              "        [0.3729, 0.3481, 0.2789],\n",
              "        [0.3309, 0.3782, 0.2910],\n",
              "        [0.4029, 0.3509, 0.2461],\n",
              "        [0.3685, 0.3466, 0.2849],\n",
              "        [0.3951, 0.3297, 0.2751],\n",
              "        [0.4277, 0.3148, 0.2574],\n",
              "        [0.3802, 0.3459, 0.2739],\n",
              "        [0.3778, 0.3379, 0.2843],\n",
              "        [0.3683, 0.3531, 0.2785]], grad_fn=<SoftmaxBackward>)"
            ]
          },
          "metadata": {
            "tags": []
          },
          "execution_count": 12
        }
      ]
    },
    {
      "cell_type": "markdown",
      "metadata": {
        "id": "X9FHhqX_YJdp",
        "colab_type": "text"
      },
      "source": [
        "Не забываем оборачивать данные (без этого градиенты не посчитать):"
      ]
    },
    {
      "cell_type": "markdown",
      "metadata": {
        "id": "ZjtIcav5pm2m",
        "colab_type": "text"
      },
      "source": [
        "## Функция потерь и оптимизатор"
      ]
    },
    {
      "cell_type": "code",
      "metadata": {
        "id": "ognoPh5lpg5f",
        "colab_type": "code",
        "colab": {
          "base_uri": "https://localhost:8080/",
          "height": 71
        },
        "outputId": "f0dcaec2-4c61-47fa-d639-a0a32622c063"
      },
      "source": [
        "loss_fn = torch.nn.CrossEntropyLoss(size_average=False)\n",
        "\n",
        "learning_rate = 1e-4\n",
        "optimizer = torch.optim.SGD(two_layer_net.parameters(), lr=learning_rate)"
      ],
      "execution_count": null,
      "outputs": [
        {
          "output_type": "stream",
          "text": [
            "/usr/local/lib/python3.6/dist-packages/torch/nn/_reduction.py:44: UserWarning: size_average and reduce args will be deprecated, please use reduction='sum' instead.\n",
            "  warnings.warn(warning.format(ret))\n"
          ],
          "name": "stderr"
        }
      ]
    },
    {
      "cell_type": "markdown",
      "metadata": {
        "id": "I-9dFW5CYJd0",
        "colab_type": "text"
      },
      "source": [
        "## Обучение модели"
      ]
    },
    {
      "cell_type": "code",
      "metadata": {
        "id": "kf-YapleYJd1",
        "colab_type": "code",
        "colab": {}
      },
      "source": [
        "# пример взят из официального туториала: \n",
        "# https://pytorch.org/tutorials/beginner/pytorch_with_examples.html\n",
        "for t in range(10000):\n",
        "    x_batch, y_batch = batch_gen(X, y)\n",
        "    \n",
        "    # forward\n",
        "    y_pred = two_layer_net(x_batch)\n",
        "\n",
        "    # loss\n",
        "    loss = loss_fn(y_pred, y_batch)\n",
        "    print('{} {}'.format(t, loss.data))\n",
        "\n",
        "    # ЗАНУЛЯЕМ!\n",
        "    optimizer.zero_grad()\n",
        "\n",
        "    # backward\n",
        "    loss.backward()\n",
        "\n",
        "    # ОБНОВЛЯЕМ! \n",
        "    optimizer.step()"
      ],
      "execution_count": null,
      "outputs": []
    },
    {
      "cell_type": "markdown",
      "metadata": {
        "id": "zTQiN0bcYJd6",
        "colab_type": "text"
      },
      "source": [
        "**Обратите внимание:** несмотря на то, что это задача 3-х классовой классификации и столбец $y$ нужно по-хорошему кодировать OneHotEncoding'ом, мы подали просто столбец из 0, 1 и 2 и всё отработало. Вывод - PyTorch сам делает OneHot в таком случае."
      ]
    },
    {
      "cell_type": "markdown",
      "metadata": {
        "id": "apsWWq17YJd8",
        "colab_type": "text"
      },
      "source": [
        "Проверим, насколько хороша наша сеть из 100 нейронов:"
      ]
    },
    {
      "cell_type": "code",
      "metadata": {
        "id": "JvjfvgbPYJeB",
        "colab_type": "code",
        "colab": {
          "base_uri": "https://localhost:8080/",
          "height": 573
        },
        "outputId": "89126d0a-ac9a-4599-c0ee-cf1cfc88ae5c"
      },
      "source": [
        "# Отрисовочная магия, снова взято из:\n",
        "# http://cs231n.github.io/neural-networks-case-study/#linear\n",
        "\n",
        "h = 0.02\n",
        "x_min, x_max = X[:, 0].min() - 1, X[:, 0].max() + 1\n",
        "y_min, y_max = X[:, 1].min() - 1, X[:, 1].max() + 1\n",
        "\n",
        "xx, yy = np.meshgrid(np.arange(x_min, x_max, h),\n",
        "                     np.arange(y_min, y_max, h))\n",
        "grid_tensor = torch.FloatTensor(np.c_[xx.ravel(), yy.ravel()])\n",
        "\n",
        "Z = two_layer_net(torch.autograd.Variable(grid_tensor))\n",
        "Z = Z.data.numpy()\n",
        "Z = np.argmax(Z, axis=1)\n",
        "Z = Z.reshape(xx.shape)\n",
        "\n",
        "plt.figure(figsize=(10, 8))\n",
        "\n",
        "plt.contourf(xx, yy, Z, cmap=plt.cm.rainbow, alpha=0.3)\n",
        "plt.scatter(X[:, 0], X[:, 1], c=y, s=40, cmap=plt.cm.rainbow)\n",
        "\n",
        "plt.xlim(xx.min(), xx.max())\n",
        "plt.ylim(yy.min(), yy.max())\n",
        "\n",
        "plt.title('Игрушка дьявола', fontsize=15)\n",
        "plt.xlabel('$x$', fontsize=14)\n",
        "plt.ylabel('$y$', fontsize=14)\n",
        "plt.show();"
      ],
      "execution_count": null,
      "outputs": [
        {
          "output_type": "stream",
          "text": [
            "/usr/local/lib/python3.6/dist-packages/torch/nn/modules/container.py:117: UserWarning: Implicit dimension choice for softmax has been deprecated. Change the call to include dim=X as an argument.\n",
            "  input = module(input)\n"
          ],
          "name": "stderr"
        },
        {
          "output_type": "display_data",
          "data": {
            "image/png": "[encoded data removed]",
            "text/plain": [
              "<Figure size 720x576 with 1 Axes>"
            ]
          },
          "metadata": {
            "tags": [],
            "needs_background": "light"
          }
        }
      ]
    },
    {
      "cell_type": "markdown",
      "metadata": {
        "id": "I-LuUcmNYJeE",
        "colab_type": "text"
      },
      "source": [
        "Качество не очень. Как же так, ведь мы использовали 100 нейронов? Разве их мало?"
      ]
    },
    {
      "cell_type": "markdown",
      "metadata": {
        "id": "CUh5va_PYJeF",
        "colab_type": "text"
      },
      "source": [
        "---"
      ]
    },
    {
      "cell_type": "markdown",
      "metadata": {
        "id": "34q5qIBvYJeG",
        "colab_type": "text"
      },
      "source": [
        "### Задача 2"
      ]
    },
    {
      "cell_type": "markdown",
      "metadata": {
        "id": "G2wNgoh5YJeG",
        "colab_type": "text"
      },
      "source": [
        "Улучшите сеть (помните про вещи, которые можно менять (см. Компоненты нейросети)). Экспериментируйте, в этом **вся суть deep learning** (и в том, чтобы рано или поздно сетка научилась экспериментировать за Вас :)"
      ]
    },
    {
      "cell_type": "code",
      "metadata": {
        "id": "ZYzvOiPgYJeH",
        "colab_type": "code",
        "colab": {}
      },
      "source": [
        "# Ваш код здесь (можно (и нужно) создавать больше ячеек)"
      ],
      "execution_count": null,
      "outputs": []
    },
    {
      "cell_type": "markdown",
      "metadata": {
        "id": "6N_9wfvPYJeK",
        "colab_type": "text"
      },
      "source": [
        "Несколько советов о том, как строить нейросети. Код выполнен на фреймворке Keras, но, кажется, он довольно интуитивно понятен."
      ]
    },
    {
      "cell_type": "markdown",
      "metadata": {
        "id": "1ciYVx1IrxcM",
        "colab_type": "text"
      },
      "source": [
        "* __Задача:__ Предсказать цену дома в $mil\n",
        "* __Вход:__ 39 признаков этого дома"
      ]
    },
    {
      "cell_type": "code",
      "metadata": {
        "id": "0ZCS1LFHrWNc",
        "colab_type": "code",
        "colab": {
          "base_uri": "https://localhost:8080/",
          "height": 231
        },
        "outputId": "9118ab49-6f42-4964-d819-23dcdc8ca27d"
      },
      "source": [
        "import keras\n",
        "model = keras.models.Sequential()\n",
        "model.add(L.InputLayer([39]))\n",
        "model.add(L.BatchNormalization())\n",
        "model.add(L.Dense(128, kernel_initializer=keras.initializers.zeros()))\n",
        "\n",
        "model.add(L.Dense(128, kernel_initializer=keras.initializers.zeros()))\n",
        "\n",
        "model.add(L.Dense(1))\n",
        "\n",
        "model.compile(optimizer='sgd', loss='mean_squared_error')"
      ],
      "execution_count": null,
      "outputs": [
        {
          "output_type": "error",
          "ename": "NameError",
          "evalue": "ignored",
          "traceback": [
            "\u001b[0;31m---------------------------------------------------------------------------\u001b[0m",
            "\u001b[0;31mNameError\u001b[0m                                 Traceback (most recent call last)",
            "\u001b[0;32m<ipython-input-17-a9e4c7fcb8c2>\u001b[0m in \u001b[0;36m<module>\u001b[0;34m()\u001b[0m\n\u001b[1;32m      1\u001b[0m \u001b[0;32mimport\u001b[0m \u001b[0mkeras\u001b[0m\u001b[0;34m\u001b[0m\u001b[0;34m\u001b[0m\u001b[0m\n\u001b[1;32m      2\u001b[0m \u001b[0mmodel\u001b[0m \u001b[0;34m=\u001b[0m \u001b[0mkeras\u001b[0m\u001b[0;34m.\u001b[0m\u001b[0mmodels\u001b[0m\u001b[0;34m.\u001b[0m\u001b[0mSequential\u001b[0m\u001b[0;34m(\u001b[0m\u001b[0;34m)\u001b[0m\u001b[0;34m\u001b[0m\u001b[0;34m\u001b[0m\u001b[0m\n\u001b[0;32m----> 3\u001b[0;31m \u001b[0mmodel\u001b[0m\u001b[0;34m.\u001b[0m\u001b[0madd\u001b[0m\u001b[0;34m(\u001b[0m\u001b[0mL\u001b[0m\u001b[0;34m.\u001b[0m\u001b[0mInputLayer\u001b[0m\u001b[0;34m(\u001b[0m\u001b[0;34m[\u001b[0m\u001b[0;36m39\u001b[0m\u001b[0;34m]\u001b[0m\u001b[0;34m)\u001b[0m\u001b[0;34m)\u001b[0m\u001b[0;34m\u001b[0m\u001b[0;34m\u001b[0m\u001b[0m\n\u001b[0m\u001b[1;32m      4\u001b[0m \u001b[0mmodel\u001b[0m\u001b[0;34m.\u001b[0m\u001b[0madd\u001b[0m\u001b[0;34m(\u001b[0m\u001b[0mL\u001b[0m\u001b[0;34m.\u001b[0m\u001b[0mBatchNormalization\u001b[0m\u001b[0;34m(\u001b[0m\u001b[0;34m)\u001b[0m\u001b[0;34m)\u001b[0m\u001b[0;34m\u001b[0m\u001b[0;34m\u001b[0m\u001b[0m\n\u001b[1;32m      5\u001b[0m \u001b[0mmodel\u001b[0m\u001b[0;34m.\u001b[0m\u001b[0madd\u001b[0m\u001b[0;34m(\u001b[0m\u001b[0mL\u001b[0m\u001b[0;34m.\u001b[0m\u001b[0mDense\u001b[0m\u001b[0;34m(\u001b[0m\u001b[0;36m128\u001b[0m\u001b[0;34m,\u001b[0m \u001b[0mkernel_initializer\u001b[0m\u001b[0;34m=\u001b[0m\u001b[0mkeras\u001b[0m\u001b[0;34m.\u001b[0m\u001b[0minitializers\u001b[0m\u001b[0;34m.\u001b[0m\u001b[0mzeros\u001b[0m\u001b[0;34m(\u001b[0m\u001b[0;34m)\u001b[0m\u001b[0;34m)\u001b[0m\u001b[0;34m)\u001b[0m\u001b[0;34m\u001b[0m\u001b[0;34m\u001b[0m\u001b[0m\n",
            "\u001b[0;31mNameError\u001b[0m: name 'L' is not defined"
          ]
        }
      ]
    },
    {
      "cell_type": "markdown",
      "metadata": {
        "id": "SsbWJV_Tr72k",
        "colab_type": "text"
      },
      "source": [
        ".\n",
        "\n",
        ".\n",
        "\n",
        ".\n",
        "\n",
        ".\n",
        "\n",
        ".\n",
        "\n",
        ".\n",
        "\n",
        ".\n",
        "\n",
        ".\n",
        "\n",
        ".\n",
        "\n",
        ".\n",
        "\n",
        ".\n",
        "\n",
        ".\n",
        "\n",
        ".\n",
        "\n",
        "."
      ]
    },
    {
      "cell_type": "code",
      "metadata": {
        "id": "__txbArDsIVM",
        "colab_type": "code",
        "colab": {
          "base_uri": "https://localhost:8080/",
          "height": 231
        },
        "outputId": "4d03ad8a-1712-4754-f177-8b2e6b5dc734"
      },
      "source": [
        "model = keras.models.Sequential()\n",
        "model.add(L.InputLayer([39]))\n",
        "model.add(L.BatchNormalization()) #<- можно просто нормализовать входы \n",
        "model.add(L.Dense(128, kernel_initializer=keras.initializers.zeros())) #<-инициализация нулями\n",
        "model.add(L.Dense(128, kernel_initializer=keras.initializers.zeros())) #<-\n",
        "model.add(L.Dense(1)) #<- три линейных слоя подряд ни к чему не приведут\n",
        "\n",
        "model.compile(optimizer='sgd', loss='mean_squared_error') "
      ],
      "execution_count": null,
      "outputs": [
        {
          "output_type": "error",
          "ename": "NameError",
          "evalue": "ignored",
          "traceback": [
            "\u001b[0;31m---------------------------------------------------------------------------\u001b[0m",
            "\u001b[0;31mNameError\u001b[0m                                 Traceback (most recent call last)",
            "\u001b[0;32m<ipython-input-28-2e55ab87925d>\u001b[0m in \u001b[0;36m<module>\u001b[0;34m()\u001b[0m\n\u001b[0;32m----> 1\u001b[0;31m \u001b[0mmodel\u001b[0m \u001b[0;34m=\u001b[0m \u001b[0mkeras\u001b[0m\u001b[0;34m.\u001b[0m\u001b[0mmodels\u001b[0m\u001b[0;34m.\u001b[0m\u001b[0mSequential\u001b[0m\u001b[0;34m(\u001b[0m\u001b[0;34m)\u001b[0m\u001b[0;34m\u001b[0m\u001b[0;34m\u001b[0m\u001b[0m\n\u001b[0m\u001b[1;32m      2\u001b[0m \u001b[0mmodel\u001b[0m\u001b[0;34m.\u001b[0m\u001b[0madd\u001b[0m\u001b[0;34m(\u001b[0m\u001b[0mL\u001b[0m\u001b[0;34m.\u001b[0m\u001b[0mInputLayer\u001b[0m\u001b[0;34m(\u001b[0m\u001b[0;34m[\u001b[0m\u001b[0;36m39\u001b[0m\u001b[0;34m]\u001b[0m\u001b[0;34m)\u001b[0m\u001b[0;34m)\u001b[0m\u001b[0;34m\u001b[0m\u001b[0;34m\u001b[0m\u001b[0m\n\u001b[1;32m      3\u001b[0m \u001b[0mmodel\u001b[0m\u001b[0;34m.\u001b[0m\u001b[0madd\u001b[0m\u001b[0;34m(\u001b[0m\u001b[0mL\u001b[0m\u001b[0;34m.\u001b[0m\u001b[0mBatchNormalization\u001b[0m\u001b[0;34m(\u001b[0m\u001b[0;34m)\u001b[0m\u001b[0;34m)\u001b[0m \u001b[0;31m#<- можно просто нормализовать входы\u001b[0m\u001b[0;34m\u001b[0m\u001b[0;34m\u001b[0m\u001b[0m\n\u001b[1;32m      4\u001b[0m \u001b[0mmodel\u001b[0m\u001b[0;34m.\u001b[0m\u001b[0madd\u001b[0m\u001b[0;34m(\u001b[0m\u001b[0mL\u001b[0m\u001b[0;34m.\u001b[0m\u001b[0mDense\u001b[0m\u001b[0;34m(\u001b[0m\u001b[0;36m128\u001b[0m\u001b[0;34m,\u001b[0m \u001b[0mkernel_initializer\u001b[0m\u001b[0;34m=\u001b[0m\u001b[0mkeras\u001b[0m\u001b[0;34m.\u001b[0m\u001b[0minitializers\u001b[0m\u001b[0;34m.\u001b[0m\u001b[0mzeros\u001b[0m\u001b[0;34m(\u001b[0m\u001b[0;34m)\u001b[0m\u001b[0;34m)\u001b[0m\u001b[0;34m)\u001b[0m \u001b[0;31m#<-инициализация нулями\u001b[0m\u001b[0;34m\u001b[0m\u001b[0;34m\u001b[0m\u001b[0m\n\u001b[1;32m      5\u001b[0m \u001b[0mmodel\u001b[0m\u001b[0;34m.\u001b[0m\u001b[0madd\u001b[0m\u001b[0;34m(\u001b[0m\u001b[0mL\u001b[0m\u001b[0;34m.\u001b[0m\u001b[0mDense\u001b[0m\u001b[0;34m(\u001b[0m\u001b[0;36m128\u001b[0m\u001b[0;34m,\u001b[0m \u001b[0mkernel_initializer\u001b[0m\u001b[0;34m=\u001b[0m\u001b[0mkeras\u001b[0m\u001b[0;34m.\u001b[0m\u001b[0minitializers\u001b[0m\u001b[0;34m.\u001b[0m\u001b[0mzeros\u001b[0m\u001b[0;34m(\u001b[0m\u001b[0;34m)\u001b[0m\u001b[0;34m)\u001b[0m\u001b[0;34m)\u001b[0m \u001b[0;31m#<-\u001b[0m\u001b[0;34m\u001b[0m\u001b[0;34m\u001b[0m\u001b[0m\n",
            "\u001b[0;31mNameError\u001b[0m: name 'keras' is not defined"
          ]
        }
      ]
    },
    {
      "cell_type": "code",
      "metadata": {
        "id": "5h9-4gxsrr4o",
        "colab_type": "code",
        "colab": {}
      },
      "source": [
        "model = keras.models.Sequential()\n",
        "model.add(L.InputLayer([39]))\n",
        "model.add(L.Dense(128, activation='sigmoid'))\n",
        "model.add(L.BatchNormalization())\n",
        "model.add(L.Dense(128, activation='sigmoid'))\n",
        "model.add(L.Dense(1))\n",
        "\n",
        "model.compile(optimizer='sgd', loss='mean_squared_error')"
      ],
      "execution_count": null,
      "outputs": []
    },
    {
      "cell_type": "markdown",
      "metadata": {
        "id": "QnLSpD6wsD6u",
        "colab_type": "text"
      },
      "source": [
        "* __Задача:__ Распознать рукописную цифру (0-9)\n",
        "* __Вход:__ картинка 28 x 28 пикселей (ч/б)"
      ]
    },
    {
      "cell_type": "code",
      "metadata": {
        "id": "iAQVLSJKsUdc",
        "colab_type": "code",
        "colab": {}
      },
      "source": [
        "model = keras.models.Sequential()\n",
        "model.add(L.InputLayer([28, 28, 1]))\n",
        "model.add(L.Flatten())\n",
        "model.add(L.Dense(100))\n",
        "model.add(L.Activation('relu'))\n",
        "model.add(L.Dropout(0.1))\n",
        "model.add(L.Dense(10))\n",
        "model.add(L.Activation('softmax'))\n",
        "model.add(L.Dropout(0.1))\n",
        "model.compile(optimizer='rmsprop', loss='mean_squared_error')"
      ],
      "execution_count": null,
      "outputs": []
    },
    {
      "cell_type": "markdown",
      "metadata": {
        "id": "O6Q1k05XsVdO",
        "colab_type": "text"
      },
      "source": [
        ".\n",
        "\n",
        ".\n",
        "\n",
        ".\n",
        "\n",
        ".\n",
        "\n",
        ".\n",
        "\n",
        ".\n",
        "\n",
        ".\n",
        "\n",
        ".\n",
        "\n",
        ".\n",
        "\n",
        ".\n",
        "\n",
        ".\n",
        "\n",
        ".\n",
        "\n",
        ".\n",
        "\n",
        "."
      ]
    },
    {
      "cell_type": "code",
      "metadata": {
        "id": "M9Mnc-2nsSr8",
        "colab_type": "code",
        "colab": {}
      },
      "source": [
        "model = keras.models.Sequential()\n",
        "model.add(L.InputLayer([28, 28, 1]))\n",
        "model.add(L.Flatten())\n",
        "model.add(L.Dense(100))\n",
        "model.add(L.Activation('relu'))\n",
        "model.add(L.Dropout(0.1)) # < хороший, годный дропаут\n",
        "model.add(L.Dense(10))\n",
        "model.add(L.Activation('softmax'))\n",
        "model.add(L.Dropout(0.1))\n",
        "# ^ не стоит dropout-ить вероятности на выходе, рискуете получить бесконечный лосс\n",
        "model.compile(optimizer='rmsprop', loss='mean_squared_error')\n",
        "# ^ обучать классификацию по квадратичной ошибке можно, но... это безбожно"
      ],
      "execution_count": null,
      "outputs": []
    },
    {
      "cell_type": "code",
      "metadata": {
        "id": "gzntYiElscvx",
        "colab_type": "code",
        "colab": {}
      },
      "source": [
        "model = keras.models.Sequential()\n",
        "model.add(L.InputLayer([28, 28, 1]))\n",
        "model.add(L.Flatten())\n",
        "model.add(L.Dense(100))\n",
        "model.add(L.Activation('relu'))\n",
        "model.add(L.Dropout(0.1))\n",
        "model.add(L.Dense(10))\n",
        "model.add(L.Activation('softmax'))\n",
        "\n",
        "model.compile(optimizer='rmsprop', loss='sparse_categorical_crossentropy')"
      ],
      "execution_count": null,
      "outputs": []
    },
    {
      "cell_type": "markdown",
      "metadata": {
        "id": "H_thmQJOYJeK",
        "colab_type": "text"
      },
      "source": [
        "<h3 style=\"text-align: center;\"><b>Полезные ссылки</b></h3>"
      ]
    },
    {
      "cell_type": "markdown",
      "metadata": {
        "id": "RpSrLf9FYJeL",
        "colab_type": "text"
      },
      "source": [
        "1). *Примеры написания нейросетей на PyTorch (офийиальные туториалы) (на английском): https://pytorch.org/tutorials/beginner/pytorch_with_examples.html#examples  \n",
        "https://pytorch.org/tutorials/beginner/blitz/cifar10_tutorial.html*\n",
        "\n",
        "2). ***Один из самых подробных и полных курсов по deep learning на данный момент - это курс Стэнфордского Университета (он вообще сейчас один из лидеров в области ИИ, его выпускники работают в Google, Facebook, Amazon, Microsoft, в стартапах в Кремниевой долине):  http://cs231n.github.io/***  \n",
        "\n",
        "3). Практически исчерпывающая информация по основам нейросетей (из cs231n) (на английском):  \n",
        "\n",
        "http://cs231n.github.io/neural-networks-1/,  \n",
        "http://cs231n.github.io/neural-networks-2/,  \n",
        "http://cs231n.github.io/neural-networks-3/,  \n",
        "http://cs231n.github.io/neural-networks-case-study/#linear\n",
        "\n",
        "4). *Хорошие статьи по основам нейросетей (на английском):  http://neuralnetworksanddeeplearning.com/chap1.html*\n",
        "\n",
        "5). *Наглядная демонстрация того, как обучаются нейросети:  https://cs.stanford.edu/people/karpathy/convnetjs/*"
      ]
    },
    {
      "cell_type": "markdown",
      "metadata": {
        "id": "1Qldb1U5YJeM",
        "colab_type": "text"
      },
      "source": [
        "6). *Подробнее про backprop -- статья на Medium: https://medium.com/autonomous-agents/backpropagation-how-neural-networks-learn-complex-behaviors-9572ac161670*"
      ]
    },
    {
      "cell_type": "markdown",
      "metadata": {
        "id": "g1HSslRhYJeN",
        "colab_type": "text"
      },
      "source": [
        "7). *Статья из интернет по Backprop: http://page.mi.fu-berlin.de/rojas/neural/chapter/K7.pdf*"
      ]
    }
  ]
}